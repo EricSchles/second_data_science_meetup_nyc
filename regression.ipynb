{
 "cells": [
  {
   "cell_type": "markdown",
   "metadata": {},
   "source": [
    "# An Introduction to Regression in Python\n",
    "\n",
    "In this tutorial we will cover regression, starting from the basics to a few advanced features.  This tutorial will focus on classical and statistical rigourous methods.  We will make use of statistical tests throughout.\n",
    "\n",
    "## Material\n",
    "\n",
    "* Definition of a Statistical Model\n",
    "* Maximum Likelihood Estimation - A Review\n",
    "    * Ratios\n",
    "    * percentages\n",
    "    * point estimation\n",
    "    * pre-bayesian analysis\n",
    "* Linear Regression\n",
    "    * the OLS algorithm\n",
    "        * newton's method\n",
    "        * stochastic gradient descent\n",
    "    * Parameter testing\n",
    "        * t-tests\n",
    "        * f-tests\n",
    "    * Goodness of fit measures\n",
    "        * KL-Divergence\n",
    "        * AIC\n",
    "        * BIC\n",
    "        * R^2\n",
    "        * Mean Squared Error\n",
    "        * Mean Absolute Error\n",
    "    * Parameter Interpretation\n",
    "        * linear - linear model\n",
    "        * log - linear model\n",
    "        * linear - log model\n",
    "        * log - log model\n",
    "        * linear - exponential model\n",
    "* Generalized Least Squares\n",
    "    * Distributions - digression (as a model)\n",
    "        * gaussian\n",
    "        * poisson\n",
    "        * gamma\n",
    "        * binomial\n",
    "        * inverse gaussian\n",
    "        * negative binomial\n",
    "    * Parameter testing\n",
    "        * ks 2 sample test (non parametric t-test)\n",
    "        * Kruskal-Wallis (non parametric F-test)\n",
    "    * Goodness of fit\n",
    "        * Mean Squared Error\n",
    "        * Mean Absolute Error\n",
    "    * Parameter Interpretation\n",
    "        * gaussian \n",
    "        * poisson\n",
    "        * gamma\n",
    "        * binomial\n",
    "        * inverse gaussian\n",
    "        * negative binomial\n",
    "* Hierarchical Data\n",
    "    * groupby - digression\n",
    "    * fixed effects model\n",
    "        * parameter testing\n",
    "        * goodness of fit\n",
    "        * parameter interpretation\n",
    "    * mixed effects model\n",
    "        * parameter testing\n",
    "        * goodness of fit\n",
    "        * parameter interpretation\n",
    "* Regularization\n",
    "    * distance functions - digression\n",
    "        * triangle inequality\n",
    "        * euclidean distance\n",
    "        * manhattan distance\n",
    "    * L1 regularization with OLS\n",
    "    * L2 regularization with OLS\n",
    "    * Lasso Regression\n",
    "    * Ridge Regression\n",
    "    * ElasticNet Regression"
   ]
  },
  {
   "cell_type": "markdown",
   "metadata": {},
   "source": [
    "https://colab.research.google.com/gist/sagarmainkar/5cfa33898a303f895da5100472371d91/notebook.ipynb\n",
    "\n",
    "https://scikit-learn.org/stable/auto_examples/linear_model/plot_lasso_model_selection.html\n",
    "\n",
    "http://datacognizant.com/index.php/ml-algorithms-decoded/\n",
    "\n",
    "http://www.math.wm.edu/~leemis/chart/UDR/UDR.html\n",
    "\n",
    "https://blog.cloudera.com/blog/2015/12/common-probability-distributions-the-data-scientists-crib-sheet/\n",
    "\n",
    "http://www.stat.tamu.edu/~twehrly/611/distab.pdf\n"
   ]
  },
  {
   "cell_type": "markdown",
   "metadata": {},
   "source": [
    "# Defining a Statistical Model\n",
    "\n",
    "In the most general sense, the goal of statistics is understand the world around us.  Often times, to do this, we come up with a mental model of the world, from data.  If our data is of a high quality and is an accurate reflection of the world around us, the model we come up with can possibly be an accurate reflection of the world, rather than meaningless symbols or \"just notation\".  \n",
    "\n",
    "With a well informed model, we can simulate the underlying phenomenon we captured data on, either extrapolating into the future what might happen in the real world, understanding what's happening now, even if we can't directly observe it, or being able to automate away an extremely hard task.  \n",
    "\n",
    "Statistical models allow us to ask - \n",
    "\n",
    "* What if?\n",
    "* What's happening now?\n",
    "* Why is it happening?\n",
    "\n",
    "And actually come up with answers that might be reasonable!  \n",
    "\n",
    "Additionally, statistical models allow us to automate tasks that appear like science fiction; we can teach robots to simulate processes of cognition like sight, hearing, and speech.  \n",
    "\n",
    "In order to understand how these models work, we'll need quite a bit of mathematical rigour, but the pay off will be the ability to simulate and understand the world around us through computation.\n",
    "\n",
    "# Maximum Likelihood Estimation\n",
    "\n",
    "Before we start introducing statistical models, we need the right mental model of what a statistical model is and does.  For this we turn to maximum likelihood estimation.  You may recall from last time that maximum likelihood estimation can be used to find the shape parameters of a distribution.  Recall that the shape parameters are merely the associated measures of center, spread, skew, kurtosis and higher order terms that allow us to easily define an accurate description of the underlying data through a process that generates data similar to the distribution of values seen.\n",
    "\n",
    "Realize, that given the above description, we've already seen our first statistical model - the process (or mathematical formula) that generates a distribution of data via sampling.\n",
    "\n",
    "Let's review with a few examples to see this in action:"
   ]
  },
  {
   "cell_type": "code",
   "execution_count": 6,
   "metadata": {},
   "outputs": [
    {
     "data": {
      "image/png": "[encoded data removed]",
      "text/plain": [
       "<Figure size 720x288 with 2 Axes>"
      ]
     },
     "metadata": {
      "needs_background": "light"
     },
     "output_type": "display_data"
    }
   ],
   "source": [
    "import matplotlib.pyplot as plt\n",
    "import seaborn as sns\n",
    "import numpy as np\n",
    "from scipy import stats\n",
    "%matplotlib inline\n",
    "\n",
    "data = np.random.normal(0, 1, size=10000)\n",
    "center, spread = stats.norm.fit(data)\n",
    "simulated_data = np.random.normal(center, spread, size=10000)\n",
    "\n",
    "f, axes = plt.subplots(1, 2, figsize=(10, 4), sharex=True)\n",
    "sns.distplot( data , color=\"green\", ax=axes[0])\n",
    "sns.distplot( simulated_data , color=\"blue\", ax=axes[1])\n",
    "plt.show()"
   ]
  },
  {
   "cell_type": "markdown",
   "metadata": {},
   "source": [
    "As you can see here there is very little difference between the simulated data and or original source!  This is because we made a few assumptions:\n",
    "\n",
    "1. we assumed a normal distribution when simulating our data\n",
    "2. we assumed we had enough original data to come up with reasonable shape parameters\n",
    "\n",
    "We can even go further to verify that this is the case by overlapping the two distributions:"
   ]
  },
  {
   "cell_type": "code",
   "execution_count": 7,
   "metadata": {},
   "outputs": [
    {
     "data": {
      "image/png": "[encoded data removed]",
      "text/plain": [
       "<Figure size 432x288 with 1 Axes>"
      ]
     },
     "metadata": {
      "needs_background": "light"
     },
     "output_type": "display_data"
    }
   ],
   "source": [
    "sns.distplot( data , color=\"green\")\n",
    "sns.distplot( simulated_data , color=\"blue\")\n",
    "plt.show()"
   ]
  },
  {
   "cell_type": "markdown",
   "metadata": {},
   "source": [
    "In general, this leads us to a conclusion - we can think of the underlying distribution that our most closely resembles as sort of a mental model for our real world phenomenon.  By understanding the underlying distribution that creates our process, in this case a normal distribution, we can simulate accurate representations of our underlying process, by only knowing the center and spread of the data!\n",
    "\n",
    "Let's take a real world example:"
   ]
  },
  {
   "cell_type": "code",
   "execution_count": 27,
   "metadata": {},
   "outputs": [
    {
     "data": {
      "text/html": [
       "<div>\n",
       "<style scoped>\n",
       "    .dataframe tbody tr th:only-of-type {\n",
       "        vertical-align: middle;\n",
       "    }\n",
       "\n",
       "    .dataframe tbody tr th {\n",
       "        vertical-align: top;\n",
       "    }\n",
       "\n",
       "    .dataframe thead th {\n",
       "        text-align: right;\n",
       "    }\n",
       "</style>\n",
       "<table border=\"1\" class=\"dataframe\">\n",
       "  <thead>\n",
       "    <tr style=\"text-align: right;\">\n",
       "      <th></th>\n",
       "      <th>total</th>\n",
       "      <th>speeding</th>\n",
       "      <th>alcohol</th>\n",
       "      <th>not_distracted</th>\n",
       "      <th>no_previous</th>\n",
       "      <th>ins_premium</th>\n",
       "      <th>ins_losses</th>\n",
       "      <th>abbrev</th>\n",
       "    </tr>\n",
       "  </thead>\n",
       "  <tbody>\n",
       "    <tr>\n",
       "      <th>0</th>\n",
       "      <td>18.8</td>\n",
       "      <td>7.332</td>\n",
       "      <td>5.640</td>\n",
       "      <td>18.048</td>\n",
       "      <td>15.040</td>\n",
       "      <td>784.55</td>\n",
       "      <td>145.08</td>\n",
       "      <td>AL</td>\n",
       "    </tr>\n",
       "    <tr>\n",
       "      <th>1</th>\n",
       "      <td>18.1</td>\n",
       "      <td>7.421</td>\n",
       "      <td>4.525</td>\n",
       "      <td>16.290</td>\n",
       "      <td>17.014</td>\n",
       "      <td>1053.48</td>\n",
       "      <td>133.93</td>\n",
       "      <td>AK</td>\n",
       "    </tr>\n",
       "    <tr>\n",
       "      <th>2</th>\n",
       "      <td>18.6</td>\n",
       "      <td>6.510</td>\n",
       "      <td>5.208</td>\n",
       "      <td>15.624</td>\n",
       "      <td>17.856</td>\n",
       "      <td>899.47</td>\n",
       "      <td>110.35</td>\n",
       "      <td>AZ</td>\n",
       "    </tr>\n",
       "    <tr>\n",
       "      <th>3</th>\n",
       "      <td>22.4</td>\n",
       "      <td>4.032</td>\n",
       "      <td>5.824</td>\n",
       "      <td>21.056</td>\n",
       "      <td>21.280</td>\n",
       "      <td>827.34</td>\n",
       "      <td>142.39</td>\n",
       "      <td>AR</td>\n",
       "    </tr>\n",
       "    <tr>\n",
       "      <th>4</th>\n",
       "      <td>12.0</td>\n",
       "      <td>4.200</td>\n",
       "      <td>3.360</td>\n",
       "      <td>10.920</td>\n",
       "      <td>10.680</td>\n",
       "      <td>878.41</td>\n",
       "      <td>165.63</td>\n",
       "      <td>CA</td>\n",
       "    </tr>\n",
       "  </tbody>\n",
       "</table>\n",
       "</div>"
      ],
      "text/plain": [
       "   total  speeding  alcohol  not_distracted  no_previous  ins_premium  \\\n",
       "0   18.8     7.332    5.640          18.048       15.040       784.55   \n",
       "1   18.1     7.421    4.525          16.290       17.014      1053.48   \n",
       "2   18.6     6.510    5.208          15.624       17.856       899.47   \n",
       "3   22.4     4.032    5.824          21.056       21.280       827.34   \n",
       "4   12.0     4.200    3.360          10.920       10.680       878.41   \n",
       "\n",
       "   ins_losses abbrev  \n",
       "0      145.08     AL  \n",
       "1      133.93     AK  \n",
       "2      110.35     AZ  \n",
       "3      142.39     AR  \n",
       "4      165.63     CA  "
      ]
     },
     "execution_count": 27,
     "metadata": {},
     "output_type": "execute_result"
    }
   ],
   "source": [
    "crashes = sns.load_dataset(\"car_crashes\")\n",
    "crashes.head()"
   ]
  },
  {
   "cell_type": "code",
   "execution_count": 24,
   "metadata": {},
   "outputs": [
    {
     "name": "stdout",
     "output_type": "stream",
     "text": [
      "Help on function normaltest in module scipy.stats.stats:\n",
      "\n",
      "normaltest(a, axis=0, nan_policy='propagate')\n",
      "    Test whether a sample differs from a normal distribution.\n",
      "    \n",
      "    This function tests the null hypothesis that a sample comes\n",
      "    from a normal distribution.  It is based on D'Agostino and\n",
      "    Pearson's [1]_, [2]_ test that combines skew and kurtosis to\n",
      "    produce an omnibus test of normality.\n",
      "    \n",
      "    \n",
      "    Parameters\n",
      "    ----------\n",
      "    a : array_like\n",
      "        The array containing the sample to be tested.\n",
      "    axis : int or None, optional\n",
      "        Axis along which to compute test. Default is 0. If None,\n",
      "        compute over the whole array `a`.\n",
      "    nan_policy : {'propagate', 'raise', 'omit'}, optional\n",
      "        Defines how to handle when input contains nan. 'propagate' returns nan,\n",
      "        'raise' throws an error, 'omit' performs the calculations ignoring nan\n",
      "        values. Default is 'propagate'.\n",
      "    \n",
      "    Returns\n",
      "    -------\n",
      "    statistic : float or array\n",
      "        ``s^2 + k^2``, where ``s`` is the z-score returned by `skewtest` and\n",
      "        ``k`` is the z-score returned by `kurtosistest`.\n",
      "    pvalue : float or array\n",
      "       A 2-sided chi squared probability for the hypothesis test.\n",
      "    \n",
      "    References\n",
      "    ----------\n",
      "    .. [1] D'Agostino, R. B. (1971), \"An omnibus test of normality for\n",
      "           moderate and large sample size\", Biometrika, 58, 341-348\n",
      "    \n",
      "    .. [2] D'Agostino, R. and Pearson, E. S. (1973), \"Tests for departure from\n",
      "           normality\", Biometrika, 60, 613-622\n",
      "    \n",
      "    Examples\n",
      "    --------\n",
      "    >>> from scipy import stats\n",
      "    >>> pts = 1000\n",
      "    >>> np.random.seed(28041990)\n",
      "    >>> a = np.random.normal(0, 1, size=pts)\n",
      "    >>> b = np.random.normal(2, 1, size=pts)\n",
      "    >>> x = np.concatenate((a, b))\n",
      "    >>> k2, p = stats.normaltest(x)\n",
      "    >>> alpha = 1e-3\n",
      "    >>> print(\"p = {:g}\".format(p))\n",
      "    p = 3.27207e-11\n",
      "    >>> if p < alpha:  # null hypothesis: x comes from a normal distribution\n",
      "    ...     print(\"The null hypothesis can be rejected\")\n",
      "    ... else:\n",
      "    ...     print(\"The null hypothesis cannot be rejected\")\n",
      "    The null hypothesis can be rejected\n",
      "\n"
     ]
    }
   ],
   "source": [
    "help(stats.normaltest)"
   ]
  },
  {
   "cell_type": "markdown",
   "metadata": {},
   "source": [
    "We first recall the null hypothesis of the test, in this case, the null hypothesis is that the data is normally distributed."
   ]
  },
  {
   "cell_type": "code",
   "execution_count": 28,
   "metadata": {},
   "outputs": [
    {
     "data": {
      "text/plain": [
       "NormaltestResult(statistic=0.19732083699768993, pvalue=0.9060503337210413)"
      ]
     },
     "execution_count": 28,
     "metadata": {},
     "output_type": "execute_result"
    }
   ],
   "source": [
    "stats.normaltest(crashes[\"total\"])"
   ]
  },
  {
   "cell_type": "markdown",
   "metadata": {},
   "source": [
    "Next we verify that our data is normally distributed.  With a p-value of 0.906 we fail to reject the null hypothesis somewhat strongly and therfore we can guess the data is likely normally distributed.  Now, let's see if we can generate more data:"
   ]
  },
  {
   "cell_type": "code",
   "execution_count": 33,
   "metadata": {},
   "outputs": [
    {
     "data": {
      "image/png": "[encoded data removed]",
      "text/plain": [
       "<Figure size 720x288 with 2 Axes>"
      ]
     },
     "metadata": {
      "needs_background": "light"
     },
     "output_type": "display_data"
    }
   ],
   "source": [
    "center, spread = stats.norm.fit(crashes[\"total\"])\n",
    "simulated_crash_totals = np.random.normal(center, spread, size=len(crashes)*20)\n",
    "f, axes = plt.subplots(1, 2, figsize=(10, 4), sharex=True)\n",
    "sns.distplot( crashes[\"total\"] , color=\"green\", ax=axes[0])\n",
    "sns.distplot( simulated_crash_totals , color=\"blue\", ax=axes[1])\n",
    "plt.show()"
   ]
  },
  {
   "cell_type": "markdown",
   "metadata": {},
   "source": [
    "As you can see, there isn't an exact match but the center and spread are approximately the same.  This graph shows us, assuming we trust our data, what it would be likely if more countries had car policies and infrastructure similar to the USA with respect to car saftey?  We can see, it would be likely that the maximum number of deaths per billion miles would likely have a high end of around 30 and a low end of close to zero.\n",
    "\n",
    "Source of data: http://seaborn.pydata.org/examples/horizontal_barplot.html?highlight=car%20crashes\n",
    "\n",
    "## The Connection Between Likelihood and Probability\n",
    "\n",
    "Before we leave our high level discussion, there is an important point to make - \n",
    "\n",
    "$$ Likelihood(data | \\mu, \\sigma) \\neq Probability(\\mu, \\sigma | data) $$\n",
    "\n",
    "This is because with the likelihood we ask, what are the most likely shape parameters that could have generated this data?  With the probability we ask, given these shape parameters what is the probability we saw this data?\n",
    "\n",
    "So we can think of these as two sides of the same coin for estimation purposes.\n",
    "\n",
    "Let's see what the probability would look like in python:\n",
    "\n",
    "Source: https://towardsdatascience.com/probability-concepts-explained-maximum-likelihood-estimation-c7b4342fdbb1"
   ]
  },
  {
   "cell_type": "code",
   "execution_count": 39,
   "metadata": {},
   "outputs": [
    {
     "data": {
      "text/plain": [
       "0.8624157075606645"
      ]
     },
     "execution_count": 39,
     "metadata": {},
     "output_type": "execute_result"
    }
   ],
   "source": [
    "def probability(mu, sigma, data):\n",
    "    simulated_data = np.random.normal(mu, sigma, size=len(data))\n",
    "    return stats.ttest_ind(simulated_data, data)[1]\n",
    "\n",
    "data = np.random.normal(0, 1, size=10000)\n",
    "mu_guess = 0\n",
    "sigma_guess = 1\n",
    "probability(mu_guess, sigma_guess, data)\n",
    "# probability that given these shape parameters we saw this data"
   ]
  },
  {
   "cell_type": "markdown",
   "metadata": {},
   "source": [
    "# The Problem With Percentages - A Digression\n",
    "\n",
    "Imagine for a second that you are running on a treadmill.  At the moment you are about 80% done with your first mile.  It took you about 5 minutes to get to this point, how long do you think it would take you to get from 1/5 left to 1/9 left?  \n",
    "\n",
    "To better conceptualize this question let's look at some pie charts:"
   ]
  },
  {
   "cell_type": "code",
   "execution_count": 44,
   "metadata": {},
   "outputs": [
    {
     "data": {
      "image/png": "[encoded data removed]",
      "text/plain": [
       "<Figure size 720x288 with 2 Axes>"
      ]
     },
     "metadata": {},
     "output_type": "display_data"
    }
   ],
   "source": [
    "# Pie chart, where the slices will be ordered and plotted counter-clockwise:\n",
    "labels = '4/5', '1/5', \n",
    "sizes = [80, 20]\n",
    "explode = (0, 0.1)  # only \"explode\" the 2nd slice (i.e. 'Hogs')\n",
    "\n",
    "fig, axes = plt.subplots(1, 2, figsize=(10, 4), sharex=True)\n",
    "axes[0].pie(sizes, explode=explode, labels=labels, autopct='%1.1f%%',\n",
    "        shadow=True, startangle=90)\n",
    "# Pie chart, where the slices will be ordered and plotted counter-clockwise:\n",
    "labels = '8/9', '1/9', \n",
    "sizes = [88, 12]\n",
    "explode = (0, 0.1)  # only \"explode\" the 2nd slice (i.e. 'Hogs')\n",
    "axes[1].pie(sizes, explode=explode, labels=labels, autopct='%1.1f%%',\n",
    "        shadow=True, startangle=90)\n",
    "plt.show()\n"
   ]
  },
  {
   "cell_type": "markdown",
   "metadata": {},
   "source": [
    "As you can see, the difference in percentage is about half, but how fast do you think you'd go from 1/5 left to 1/9?  At that given pacing, it takes about 30 seconds and what's more the fraction get smaller exponentially fast with each passing second.  That's because there is increasingly less distance left between you, the runner, and the intended finish line.  But numbers and percentages don't capture this well.  This is because it's hard to reason about asymptotics of a system.\n",
    "\n",
    "So why do fractions fall apart semantically in this example?  It's because we are trying to capture something precisely with fractions whose components (numerator and denominator) as less than 10!  Do percentages make more sense in this case?  Let's rephrase the question:\n",
    "\n",
    "Imagine for a second that you are running on a treadmill. At the moment you are about 80% done with your first mile. It took you about 5 minutes to get to this point, how long do you think it would take you to get from 80% left to 88% left?\n",
    "\n",
    "Does 30 seconds to go 8% of the distance make more sense, then going 1/9 in 30 seconds?  Perhaps it does.  \n",
    "\n",
    "However there is a larger problem here:\n",
    "\n",
    "Depending on the units you are talking about 5% or 8% could be a huge amount or a very small amount.  It all comes down to what you are talking about.  For instance, most economists agree a health economy grows at around 2% per year!  This number feels small, until you consider what 2% means for the US economy or other developed nations.\n",
    "\n",
    "If the US economy grows 2% this year that will mean it grows approximately:\n",
    "\n",
    "388 billion dollars\n",
    "\n",
    "We also experience this problem with the rareity of an event:\n",
    "\n",
    "What is the probability that any of microsoft's servers fails in the next hour given that the probability a given server fails is 0.01%?  \n",
    "\n",
    "Well that depends on something very important: how many servers do we have?  I personally don't know the exact number but a safe guess in order of magnitude is something like:\n",
    "\n",
    "$80,000 servers * 8 data centers * 5 availability zones * 24 regions \\approx$ \n",
    "\n",
    "77 million!!!\n",
    "\n",
    "We can figure this out by multiplying the probability a server fails times the number of servers:\n",
    "\n",
    "7700.0\n",
    "\n",
    "So around 8,000 will fail in the next hour alone!!  I certainly wouldn't have guessed that from the probability of an individual server.\n",
    "\n",
    "Source: https://www.forbes.com/sites/johnsonpierr/2017/06/15/with-the-public-clouds-of-amazon-microsoft-and-google-big-data-is-the-proverbial-big-deal/#6e5918692ac3\n",
    "\n",
    "We also experience this problem with floating point numbers in computation.  Because the size of computers are finite, they cannot represent the full precision of values which sometimes means our statistical algorithms don't converge, even when they should theoretically!!\n",
    "\n",
    "So sometimes, the numbers themselves aren't precise enough for us to do mathematics properly.  \n",
    "\n",
    "## The Flaw in MLE\n",
    "\n",
    "The reason I bring all this up, is because of how Maximum Likelihood Estimation is done:\n",
    "\n",
    "We take an estimate by looking for the choice of shape parameters which maximize the likelihood, but the likelihood is like a probability, it works over a percentage or fraction.  It chooses its parameters by taking a \"best\" guess.  But the truth is there may be much higher confidence by just taking a small range of values around a desired level of acceptability, rather than insisting on a point estimate that maximizes things.\n",
    "\n",
    "To understand this, let's look at test scores:\n",
    "\n",
    "Say we had a class of students and we wanted to choose the folks who did well in the course.  First let's try to pick all those who scored in the top 10% of the class.  And then let's try to pick all those who got 90% or above of the total points available for the course:"
   ]
  },
  {
   "cell_type": "code",
   "execution_count": 51,
   "metadata": {},
   "outputs": [],
   "source": [
    "scores = np.random.normal(75, 25, size=10000)\n",
    "scores = scores[scores < 100]"
   ]
  },
  {
   "cell_type": "code",
   "execution_count": 55,
   "metadata": {},
   "outputs": [
    {
     "name": "stdout",
     "output_type": "stream",
     "text": [
      "Students who scored in the top 10 percentile 841\n",
      "Students who got a score of 90% or better 1145\n"
     ]
    }
   ],
   "source": [
    "print(\"Students who scored in the top 10 percentile\", len(scores[scores > np.percentile(scores, 90)]))\n",
    "print(\"Students who got a score of 90% or better\", len(scores[scores >= 90]))"
   ]
  },
  {
   "cell_type": "markdown",
   "metadata": {},
   "source": [
    "Notice there is an important difference there!  This is because the semantics matter a lot and by picking hard cut offs for what \"best\" means we limit ourselves slavishly to the misunderstandings of the representations of semantics numerically.\n",
    "\n",
    "Let's take a closer look at the distribution of scores:"
   ]
  },
  {
   "cell_type": "code",
   "execution_count": 56,
   "metadata": {},
   "outputs": [
    {
     "data": {
      "image/png": "[encoded data removed]",
      "text/plain": [
       "<Figure size 720x288 with 2 Axes>"
      ]
     },
     "metadata": {
      "needs_background": "light"
     },
     "output_type": "display_data"
    }
   ],
   "source": [
    "top_10 = scores[scores > np.percentile(scores, 90)]\n",
    "top_90 = scores[scores > 90]\n",
    "f, axes = plt.subplots(1, 2, figsize=(10, 4), sharex=True)\n",
    "sns.distplot( top_10 , color=\"green\", ax=axes[0])\n",
    "sns.distplot( top_90 , color=\"blue\", ax=axes[1])\n",
    "plt.show()"
   ]
  },
  {
   "cell_type": "markdown",
   "metadata": {},
   "source": [
    "With this theoretical example, are the kids on the left \"really\" any smarter than the kids on the right?  Absolutely not!  And yet some of them would get an A and some of them would get a B based on these cut offs.  \n",
    "\n",
    "Let's say this were a university course, that might be the difference between getting into graduate school or not, for at least some of these students.  And that's because the semantics of what an A means varies wildly across different universities and different professors.  \n",
    "\n",
    "To summarize, so this is the issue with point estimates:\n",
    "\n",
    "Numbers are precise, but humans are not usually and even then, because we are doing math on computers, we lose some precision.  So taking a point estimate may not always give you what you want.  It does okay, but you might miss out on a lot of important stuff.  And if you aren't careful, you could get something very important wrong, which could be highly dependent on your use case.\n",
    "\n",
    "## How We Can Correct This\n",
    "\n",
    "One of these easiest ways to do this is to go bayesian.  I won't explain all the theory behind it, but basically bayesians say, instead of taking a point estimate, we take a bunch of points around what we think is a good point estimate.  This allows us to be wrong, allows us to be surprised and most importantly, allows us to still learn things, without throwing out the good stuff.\n",
    "\n",
    "So if we used a bayesian mindset for the above example, we'd say:\n",
    "\n",
    "Give me everything around the 90th percentile and give me everything around people that scored 90% percent of the points or better:"
   ]
  },
  {
   "cell_type": "code",
   "execution_count": 57,
   "metadata": {},
   "outputs": [
    {
     "name": "stdout",
     "output_type": "stream",
     "text": [
      "Students who scored around the top 10 percentile 1261\n",
      "Students who got around a score of 90% or better 1817\n"
     ]
    }
   ],
   "source": [
    "print(\"Students who scored around the top 10 percentile\", len(scores[scores > np.percentile(scores, 85)]))\n",
    "print(\"Students who got around a score of 90% or better\", len(scores[scores >= 85]))"
   ]
  },
  {
   "cell_type": "code",
   "execution_count": 58,
   "metadata": {},
   "outputs": [
    {
     "data": {
      "image/png": "[encoded data removed]",
      "text/plain": [
       "<Figure size 720x288 with 2 Axes>"
      ]
     },
     "metadata": {
      "needs_background": "light"
     },
     "output_type": "display_data"
    }
   ],
   "source": [
    "top_10 = scores[scores > np.percentile(scores, 85)]\n",
    "top_90 = scores[scores > 85]\n",
    "f, axes = plt.subplots(1, 2, figsize=(10, 4), sharex=True)\n",
    "sns.distplot( top_10 , color=\"green\", ax=axes[0])\n",
    "sns.distplot( top_90 , color=\"blue\", ax=axes[1])\n",
    "plt.show()"
   ]
  },
  {
   "cell_type": "markdown",
   "metadata": {},
   "source": [
    "So functionally what did we do?  We gave ourselves some slack.  We didn't pick the exact number we were shooting for.  But what does that give us?  Well for instance, by choosing the top 85% we can now see more data and then make an informed choice about individual students that may or may not deserve an A.  Now we can factor in how hard those students at the bottom worked to get that overall score of 85 or to get into the top 85% percentile.  And then we can make a value judgement, based on domain expertise about who deserves an A in the course!\n",
    "\n",
    "Notice - we lose precision in our point estimate, because now things are more fuzzy.  But!  We gain the ability to be more discerning about our data, our model, and our results.\n",
    "\n",
    "In the remainder of the lecture, we'll see how point estimates try to account directly for this by looking at the shape parameters of the distribution of errors during training and how this can help inform the models we create!"
   ]
  },
  {
   "cell_type": "markdown",
   "metadata": {},
   "source": [
    "## Linear Regression \n",
    "\n",
    "Linear Regression is one of the simplest and most interpretable models there is.  Before we dive into it's specifics, let's first see how it relates to maximum likelihood estimation:"
   ]
  },
  {
   "cell_type": "code",
   "execution_count": 63,
   "metadata": {},
   "outputs": [
    {
     "data": {
      "image/png": "[encoded data removed]",
      "text/plain": [
       "<Figure size 432x432 with 3 Axes>"
      ]
     },
     "metadata": {
      "needs_background": "light"
     },
     "output_type": "display_data"
    }
   ],
   "source": [
    "sns.jointplot(x=\"speeding\", y=\"total\", data=crashes, kind=\"reg\")\n",
    "plt.show()"
   ]
  },
  {
   "cell_type": "markdown",
   "metadata": {},
   "source": [
    "Here we see the joint distribution of car crashes where the driver was speeding per billion miles and the total car crashes per billion miles.  By looking at the blue shaded line we see the joint simulated distribution from the relationship between the shape parameters of the shared distribution.  Additionally, we see the point estimate - the maximum likelihood estimation - the dark blue line cutting through the data.\n",
    "\n",
    "The reason why a distribution like this:"
   ]
  },
  {
   "cell_type": "code",
   "execution_count": 66,
   "metadata": {},
   "outputs": [
    {
     "data": {
      "image/png": "[encoded data removed]",
      "text/plain": [
       "<Figure size 432x288 with 1 Axes>"
      ]
     },
     "metadata": {
      "needs_background": "light"
     },
     "output_type": "display_data"
    }
   ],
   "source": [
    "data = np.random.normal(0, 1, size=10000)\n",
    "sns.distplot(data)\n",
    "plt.show()"
   ]
  },
  {
   "cell_type": "markdown",
   "metadata": {},
   "source": [
    "is simple - it's because the maximum point estimate for this distribution is where the majority of the top of the theoretical curve that represents the shape of the distribution.  In other words, the MLE takes the highest point of the distribution.  In two dimensional space, this is represented as a line as the above picture shows.\n",
    "\n",
    "## The Ordinary Least Squares Algorithm\n",
    "\n",
    "The Ordinary Least Squares Algorithm is probably the simplest thing you could think of - Here is the psuedo code for the algorithm:\n",
    "\n",
    "1. start with a line cutting through the data (perhaps pick two random points in the space and draw a line through them)\n",
    "2. look at the difference between all the points and the line\n",
    "3. update the line such that the sum of the squared differences is made smaller\n",
    "4. repeat until the sum of squared differences is as small as possible\n",
    "\n",
    "There are lots of ways to implement this, we'll look at a few methods here:\n",
    "\n",
    "### Newton's Method\n",
    "\n",
    "Newton's method is one of may methods for doing the approximation to do the minimization:"
   ]
  },
  {
   "cell_type": "code",
   "execution_count": 86,
   "metadata": {},
   "outputs": [
    {
     "name": "stdout",
     "output_type": "stream",
     "text": [
      "Root 1.4142135623730951\n"
     ]
    }
   ],
   "source": [
    "#These choices depend on the problem being solved\n",
    "x0 = 1 #The initial value\n",
    "f = lambda x : x**2 - 2 #The function whose root we are trying to find\n",
    "fprime = lambda x : 2*x #The derivative of f(x)\n",
    "tolerance = 10**(-7) #7 digit accuracy is desired\n",
    "epsilon = 10**(-14) #Don't want to divide by a number smaller than this\n",
    "\n",
    "def newton_raphson_method(x0, f, fprime, tolerance, epsilon):\n",
    "    max_iterations = 20 #Don't allow the iterations to continue indefinitely\n",
    "    haveWeFoundSolution = False #Have not converged to a solution yet\n",
    "\n",
    "    for i in range(max_iterations):\n",
    "        y = f(x0)\n",
    "        yprime = fprime(x0)\n",
    "\n",
    "        #Don't want to divide by too small of a number\n",
    "        # denominator is too small\n",
    "        if(abs(yprime) < epsilon):\n",
    "            break \n",
    "\n",
    "        x1 = x0 - y/yprime #Do Newton's computation\n",
    "\n",
    "        if(abs(x1 - x0) <= tolerance * abs(x1)): #If the result is within the desired tolerance\n",
    "            haveWeFoundSolution = True\n",
    "            break\n",
    "        x0 = x1 #Update x0 to start the process again\n",
    "    if haveWeFoundSolution:\n",
    "        return x1\n",
    "    else:\n",
    "        return \"did not converge\"\n",
    "    \n",
    "print(\"Root\", newton_ralphson_method(x0, f, fprime, tolerance, epsilon))"
   ]
  },
  {
   "cell_type": "markdown",
   "metadata": {},
   "source": [
    "## Stochastic Gradient Descent\n",
    "\n",
    "Now that we have an idea broadly of how to miminize a function let's see how this works for linear regression.  For this will make use of a common algorithm called stochastic gradient descent:\n"
   ]
  },
  {
   "cell_type": "code",
   "execution_count": 80,
   "metadata": {},
   "outputs": [],
   "source": [
    "X = 2 * np.random.rand(100,1)\n",
    "y = 4 +3 * X+np.random.randn(100,1)"
   ]
  },
  {
   "cell_type": "code",
   "execution_count": 85,
   "metadata": {},
   "outputs": [],
   "source": [
    "def  cal_cost(theta,X,y):\n",
    "    '''\n",
    "    \n",
    "    Calculates the cost for given X and Y. The following shows and example of a single dimensional X\n",
    "    theta = Vector of thetas \n",
    "    X     = Row of X's np.zeros((2,j))\n",
    "    y     = Actual y's np.zeros((2,1))\n",
    "    \n",
    "    where:\n",
    "        j is the no of features\n",
    "    '''\n",
    "    \n",
    "    m = len(y)\n",
    "    \n",
    "    predictions = X.dot(theta)\n",
    "    cost = (1/2*m) * np.sum(np.square(predictions-y))\n",
    "    return cost\n",
    "\n",
    "def gradient_descent(X,y,theta,learning_rate=0.01,iterations=100):\n",
    "    '''\n",
    "    X    = Matrix of X with added bias units\n",
    "    y    = Vector of Y\n",
    "    theta=Vector of thetas np.random.randn(j,1)\n",
    "    learning_rate \n",
    "    iterations = no of iterations\n",
    "    \n",
    "    Returns the final theta vector and array of cost history over no of iterations\n",
    "    '''\n",
    "    m = len(y)\n",
    "    cost_history = np.zeros(iterations)\n",
    "    theta_history = np.zeros((iterations,2))\n",
    "    for it in range(iterations):\n",
    "        \n",
    "        prediction = np.dot(X,theta)\n",
    "        \n",
    "        # derivative of the cost function is applied here notice\n",
    "        # the 1/m and the dot product\n",
    "        # the learning rate is a dampener on the gradient\n",
    "        theta = theta -(1/m)*learning_rate*( X.T.dot((prediction - y)))\n",
    "        theta_history[it,:] =theta.T\n",
    "        cost_history[it]  = cal_cost(theta,X,y)\n",
    "        \n",
    "    return theta, cost_history, theta_history"
   ]
  },
  {
   "cell_type": "code",
   "execution_count": 82,
   "metadata": {},
   "outputs": [
    {
     "name": "stdout",
     "output_type": "stream",
     "text": [
      "Theta0:          3.704,\n",
      "Theta1:          3.251\n",
      "Final cost/MSE:  5314.306\n"
     ]
    }
   ],
   "source": [
    "lr =0.01\n",
    "n_iter = 1000\n",
    "\n",
    "theta = np.random.randn(2,1)\n",
    "\n",
    "X_b = np.c_[np.ones((len(X),1)),X]\n",
    "theta,cost_history,theta_history = gradient_descent(X_b,y,theta,lr,n_iter)\n",
    "\n",
    "y_predict = X_b.dot(theta)\n",
    "\n",
    "print('Theta0:          {:0.3f},\\nTheta1:          {:0.3f}'.format(theta[0][0],theta[1][0]))\n",
    "print('Final cost/MSE:  {:0.3f}'.format(cost_history[-1]))"
   ]
  },
  {
   "cell_type": "code",
   "execution_count": 84,
   "metadata": {},
   "outputs": [
    {
     "data": {
      "image/png": "[encoded data removed]",
      "text/plain": [
       "<Figure size 432x288 with 1 Axes>"
      ]
     },
     "metadata": {
      "needs_background": "light"
     },
     "output_type": "display_data"
    }
   ],
   "source": [
    "plt.plot(X,y_predict,'r-')\n",
    "plt.plot(X,y,'b.')\n",
    "plt.xlabel(\"$x_1$\", fontsize=18)\n",
    "plt.ylabel(\"$y$\", rotation=0, fontsize=18)\n",
    "plt.axis([0,2,0,15])\n",
    "plt.show()"
   ]
  },
  {
   "cell_type": "markdown",
   "metadata": {},
   "source": [
    "As you can see, the same general idea employed in newton_raphson is applied here.  The major difference is that now things are more sophisticated with the introduction of a cost function making the gradient less straight forward.  Also we need to take the sum over all errors.  But that really just means the function we are differentiating is more complex, the fundamental algorithm is the same.\n",
    "\n",
    "## T-Tests and F-Tests\n",
    "\n",
    "Now let's look at an example using a library (which you'll usually do) to do linear regression:"
   ]
  },
  {
   "cell_type": "code",
   "execution_count": 89,
   "metadata": {},
   "outputs": [
    {
     "data": {
      "text/html": [
       "<table class=\"simpletable\">\n",
       "<caption>OLS Regression Results</caption>\n",
       "<tr>\n",
       "  <th>Dep. Variable:</th>            <td>y</td>        <th>  R-squared:         </th> <td>   0.374</td>\n",
       "</tr>\n",
       "<tr>\n",
       "  <th>Model:</th>                   <td>OLS</td>       <th>  Adj. R-squared:    </th> <td>   0.361</td>\n",
       "</tr>\n",
       "<tr>\n",
       "  <th>Method:</th>             <td>Least Squares</td>  <th>  F-statistic:       </th> <td>   29.27</td>\n",
       "</tr>\n",
       "<tr>\n",
       "  <th>Date:</th>             <td>Mon, 10 Dec 2018</td> <th>  Prob (F-statistic):</th> <td>1.87e-06</td>\n",
       "</tr>\n",
       "<tr>\n",
       "  <th>Time:</th>                 <td>16:05:29</td>     <th>  Log-Likelihood:    </th> <td> -132.15</td>\n",
       "</tr>\n",
       "<tr>\n",
       "  <th>No. Observations:</th>      <td>    51</td>      <th>  AIC:               </th> <td>   268.3</td>\n",
       "</tr>\n",
       "<tr>\n",
       "  <th>Df Residuals:</th>          <td>    49</td>      <th>  BIC:               </th> <td>   272.2</td>\n",
       "</tr>\n",
       "<tr>\n",
       "  <th>Df Model:</th>              <td>     1</td>      <th>                     </th>     <td> </td>   \n",
       "</tr>\n",
       "<tr>\n",
       "  <th>Covariance Type:</th>      <td>nonrobust</td>    <th>                     </th>     <td> </td>   \n",
       "</tr>\n",
       "</table>\n",
       "<table class=\"simpletable\">\n",
       "<tr>\n",
       "      <td></td>        <th>coef</th>     <th>std err</th>      <th>t</th>      <th>P>|t|</th>  <th>[0.025</th>    <th>0.975]</th>  \n",
       "</tr>\n",
       "<tr>\n",
       "  <th>const</th>    <td>    9.5459</td> <td>    1.243</td> <td>    7.680</td> <td> 0.000</td> <td>    7.048</td> <td>   12.044</td>\n",
       "</tr>\n",
       "<tr>\n",
       "  <th>speeding</th> <td>    1.2493</td> <td>    0.231</td> <td>    5.411</td> <td> 0.000</td> <td>    0.785</td> <td>    1.713</td>\n",
       "</tr>\n",
       "</table>\n",
       "<table class=\"simpletable\">\n",
       "<tr>\n",
       "  <th>Omnibus:</th>       <td> 2.847</td> <th>  Durbin-Watson:     </th> <td>   2.008</td>\n",
       "</tr>\n",
       "<tr>\n",
       "  <th>Prob(Omnibus):</th> <td> 0.241</td> <th>  Jarque-Bera (JB):  </th> <td>   2.681</td>\n",
       "</tr>\n",
       "<tr>\n",
       "  <th>Skew:</th>          <td> 0.542</td> <th>  Prob(JB):          </th> <td>   0.262</td>\n",
       "</tr>\n",
       "<tr>\n",
       "  <th>Kurtosis:</th>      <td> 2.709</td> <th>  Cond. No.          </th> <td>    14.9</td>\n",
       "</tr>\n",
       "</table><br/><br/>Warnings:<br/>[1] Standard Errors assume that the covariance matrix of the errors is correctly specified."
      ],
      "text/plain": [
       "<class 'statsmodels.iolib.summary.Summary'>\n",
       "\"\"\"\n",
       "                            OLS Regression Results                            \n",
       "==============================================================================\n",
       "Dep. Variable:                      y   R-squared:                       0.374\n",
       "Model:                            OLS   Adj. R-squared:                  0.361\n",
       "Method:                 Least Squares   F-statistic:                     29.27\n",
       "Date:                Mon, 10 Dec 2018   Prob (F-statistic):           1.87e-06\n",
       "Time:                        16:05:29   Log-Likelihood:                -132.15\n",
       "No. Observations:                  51   AIC:                             268.3\n",
       "Df Residuals:                      49   BIC:                             272.2\n",
       "Df Model:                           1                                         \n",
       "Covariance Type:            nonrobust                                         \n",
       "==============================================================================\n",
       "                 coef    std err          t      P>|t|      [0.025      0.975]\n",
       "------------------------------------------------------------------------------\n",
       "const          9.5459      1.243      7.680      0.000       7.048      12.044\n",
       "speeding       1.2493      0.231      5.411      0.000       0.785       1.713\n",
       "==============================================================================\n",
       "Omnibus:                        2.847   Durbin-Watson:                   2.008\n",
       "Prob(Omnibus):                  0.241   Jarque-Bera (JB):                2.681\n",
       "Skew:                           0.542   Prob(JB):                        0.262\n",
       "Kurtosis:                       2.709   Cond. No.                         14.9\n",
       "==============================================================================\n",
       "\n",
       "Warnings:\n",
       "[1] Standard Errors assume that the covariance matrix of the errors is correctly specified.\n",
       "\"\"\""
      ]
     },
     "execution_count": 89,
     "metadata": {},
     "output_type": "execute_result"
    }
   ],
   "source": [
    "import statsmodels.api as sm\n",
    "\n",
    "speeding = sm.add_constant(crashes[\"speeding\"])\n",
    "ols = sm.OLS(crashes[\"total\"].values, speeding)\n",
    "result = ols.fit()\n",
    "result.summary()"
   ]
  },
  {
   "cell_type": "markdown",
   "metadata": {},
   "source": [
    "Let's start by understanding what the \"t-test\" and the \"f-test\" mean in this context.  If you recall from last time, in general the t-test is used to test whether or not two different samples come from the same distribution.  In this case the \"t-test\" tests the null hypothesis that the given independent variable is different from zero.  So if we reject the null hypothesis, in this case, it is different than zero.\n",
    "\n",
    "Likewise for the \"F-test\", in general it tests if 2 or more variables come from the same population.  In this case, the null hypothesis states that all the variables jointly equal zero or in otherwords, contribute nothing to the explaination of the y variable.\n",
    "\n",
    "To be specific, in the above example with respect to the t-tests:\n",
    "\n",
    "We reject the null hypothesis both times, therefore speeding and the constant term both are different than zero.  This means there is some bias term that is constant and speeding both contribute statistically to the explaination of total car crashes per billion miles.\n",
    "\n",
    "We also reject the null hypothesis that the variables jointly are zero and therefore the model does have statistical meaning.\n",
    "\n",
    "Source: https://stats.stackexchange.com/questions/59250/how-to-interpret-the-output-of-the-summary-method-for-an-lm-object-in-r\n",
    "\n",
    "## Goodness of fit measures\n",
    "\n",
    "The next two measures we will look at are Akaike Information Criterion and Bayesian Information Criterion, but first we will look at the algorithm that underlies them both: KL - Divergence\n",
    "\n",
    "### Digression - KL-Divergence\n",
    "\n",
    "Kullback Liebler divergence is, like many other things in statistics a way of measuring how different two distributions are.  But the way it asks the question and the usrs of KL-Divergence are surprisingly rich.  Checkout this quote from wikipedia:\n",
    "\n",
    "\"Expressed in the language of Bayesian inference, ${\\displaystyle D_{\\text{KL}}(P\\parallel Q)}$  is a measure of the information gained when one revises one's beliefs from the prior probability distribution Q to the posterior probability distribution P.  In other words, it is the amount of information lost when Q is used to approximate P.  In applications, P typically represents the \"true\" distribution of data, observations, or a precisely calculated theoretical distribution, while Q typically represents a theory, model, description, or approximation of P.  In order to find a distribution Q that is closest to P, we can minimize KL divergence and compute an information projection.\"\n",
    "\n",
    "Source: https://en.wikipedia.org/wiki/Kullback%E2%80%93Leibler_divergence\n",
    "\n",
    "While this feels like a restatement of ks_2sample with fewer guarantees:\n",
    "\n",
    "1. it's assymetric => ${\\displaystyle D_{\\text{KL}}(P\\parallel Q)} \\neq {\\displaystyle D_{\\text{KL}}(Q\\parallel P)}$\n",
    "\n",
    "2. there is no guarantee that comparisons between different paired distributions will have an ordering:\n",
    "\n",
    "I.E. if we have: \n",
    "\n",
    "${\\displaystyle D_{\\text{KL}}(P\\parallel Q)} = 5$\n",
    "\n",
    "${\\displaystyle D_{\\text{KL}}(Q\\parallel R)} = 7$\n",
    "\n",
    "It is not the case that:\n",
    "\n",
    "${\\displaystyle D_{\\text{KL}}(P\\parallel Q)} \\lt {\\displaystyle D_{\\text{KL}}(Q\\parallel R)}$\n",
    "\n",
    "And further more:\n",
    "\n",
    "${\\displaystyle D_{\\text{KL}}(P\\parallel R)} \\neq 12$\n",
    "\n",
    "And yet!\n",
    "\n",
    "KL-Divergence is **_powerful_**.  We can use it:\n",
    "\n",
    "1. compare the divergence between two distributions _regardless_ of distribution shape.\n",
    "\n",
    "Consider the following case:"
   ]
  },
  {
   "cell_type": "code",
   "execution_count": 90,
   "metadata": {},
   "outputs": [
    {
     "name": "stderr",
     "output_type": "stream",
     "text": [
      "/usr/local/lib/python3.7/site-packages/scipy/stats/stats.py:1713: FutureWarning: Using a non-tuple sequence for multidimensional indexing is deprecated; use `arr[tuple(seq)]` instead of `arr[seq]`. In the future this will be interpreted as an array index, `arr[np.array(seq)]`, which will result either in an error or a different result.\n",
      "  return np.add.reduce(sorted[indexer] * weights, axis=axis) / sumval\n"
     ]
    },
    {
     "data": {
      "image/png": "[encoded data removed]",
      "text/plain": [
       "<Figure size 432x288 with 1 Axes>"
      ]
     },
     "metadata": {
      "needs_background": "light"
     },
     "output_type": "display_data"
    }
   ],
   "source": [
    "normal_dist = np.random.normal(0, 1, size=10000)\n",
    "exponential_dist = np.random.exponential(1.9, size=10000)\n",
    "sns.distplot( exponential_dist , color=\"blue\")\n",
    "sns.distplot( normal_dist , color=\"green\")\n",
    "\n",
    "plt.show()"
   ]
  },
  {
   "cell_type": "markdown",
   "metadata": {},
   "source": [
    "We can use KL-Divergence to measure how different these really are!!!"
   ]
  },
  {
   "cell_type": "code",
   "execution_count": 92,
   "metadata": {},
   "outputs": [
    {
     "data": {
      "text/plain": [
       "inf"
      ]
     },
     "execution_count": 92,
     "metadata": {},
     "output_type": "execute_result"
    }
   ],
   "source": [
    "t1 = stats.norm(0, 1)\n",
    "t2 = stats.expon(1.9)\n",
    "\n",
    "# domain to evaluate PDF on\n",
    "x = np.linspace(-5, 5, 100)\n",
    "stats.entropy(t1.pdf(x), t2.pdf(x))"
   ]
  },
  {
   "cell_type": "markdown",
   "metadata": {},
   "source": [
    "Perhaps surprisingly, the divergence is infinite!  Despite these two distributions appearing very similar, they are definitely different!  This gives us more reason to believe that we shouldn't always trust, even precise pictures.\n",
    "\n",
    "Another important use of KL-Divergence is telling you by how much you are off from a theoretical optimum.  In other words, if we have enough information, it tells us how much we don't know.  "
   ]
  },
  {
   "cell_type": "markdown",
   "metadata": {},
   "source": [
    "The interested, there are even more examples found here: \n",
    "    \n",
    "https://www.programcreek.com/python/example/62037/scipy.stats.entropy\n",
    "        "
   ]
  },
  {
   "cell_type": "markdown",
   "metadata": {},
   "source": [
    "## Akaike Information Criterion && Bayesian Information Criterion\n",
    "\n",
    "The AIC is another one of those tools that helps assess how well the model does.  It is an application of KL-divergence.  The way it does this is by looking at the overall goodness of fit of the model.  The smaller the AIC, the better the model fits the data.  And if a model has lots of parameters the score will always be higher, so this is a way of assessing goodness of fit, while avoiding overfitting."
   ]
  },
  {
   "cell_type": "code",
   "execution_count": 94,
   "metadata": {},
   "outputs": [
    {
     "data": {
      "text/html": [
       "<table class=\"simpletable\">\n",
       "<caption>OLS Regression Results</caption>\n",
       "<tr>\n",
       "  <th>Dep. Variable:</th>            <td>y</td>        <th>  R-squared:         </th> <td>   0.730</td>\n",
       "</tr>\n",
       "<tr>\n",
       "  <th>Model:</th>                   <td>OLS</td>       <th>  Adj. R-squared:    </th> <td>   0.719</td>\n",
       "</tr>\n",
       "<tr>\n",
       "  <th>Method:</th>             <td>Least Squares</td>  <th>  F-statistic:       </th> <td>   64.87</td>\n",
       "</tr>\n",
       "<tr>\n",
       "  <th>Date:</th>             <td>Mon, 10 Dec 2018</td> <th>  Prob (F-statistic):</th> <td>2.27e-14</td>\n",
       "</tr>\n",
       "<tr>\n",
       "  <th>Time:</th>                 <td>18:37:06</td>     <th>  Log-Likelihood:    </th> <td> -110.71</td>\n",
       "</tr>\n",
       "<tr>\n",
       "  <th>No. Observations:</th>      <td>    51</td>      <th>  AIC:               </th> <td>   227.4</td>\n",
       "</tr>\n",
       "<tr>\n",
       "  <th>Df Residuals:</th>          <td>    48</td>      <th>  BIC:               </th> <td>   233.2</td>\n",
       "</tr>\n",
       "<tr>\n",
       "  <th>Df Model:</th>              <td>     2</td>      <th>                     </th>     <td> </td>   \n",
       "</tr>\n",
       "<tr>\n",
       "  <th>Covariance Type:</th>      <td>nonrobust</td>    <th>                     </th>     <td> </td>   \n",
       "</tr>\n",
       "</table>\n",
       "<table class=\"simpletable\">\n",
       "<tr>\n",
       "      <td></td>        <th>coef</th>     <th>std err</th>      <th>t</th>      <th>P>|t|</th>  <th>[0.025</th>    <th>0.975]</th>  \n",
       "</tr>\n",
       "<tr>\n",
       "  <th>const</th>    <td>    5.6807</td> <td>    0.957</td> <td>    5.934</td> <td> 0.000</td> <td>    3.756</td> <td>    7.606</td>\n",
       "</tr>\n",
       "<tr>\n",
       "  <th>speeding</th> <td>    0.1502</td> <td>    0.206</td> <td>    0.728</td> <td> 0.470</td> <td>   -0.265</td> <td>    0.565</td>\n",
       "</tr>\n",
       "<tr>\n",
       "  <th>alcohol</th>  <td>    1.9152</td> <td>    0.241</td> <td>    7.954</td> <td> 0.000</td> <td>    1.431</td> <td>    2.399</td>\n",
       "</tr>\n",
       "</table>\n",
       "<table class=\"simpletable\">\n",
       "<tr>\n",
       "  <th>Omnibus:</th>       <td> 2.495</td> <th>  Durbin-Watson:     </th> <td>   1.809</td>\n",
       "</tr>\n",
       "<tr>\n",
       "  <th>Prob(Omnibus):</th> <td> 0.287</td> <th>  Jarque-Bera (JB):  </th> <td>   2.045</td>\n",
       "</tr>\n",
       "<tr>\n",
       "  <th>Skew:</th>          <td> 0.490</td> <th>  Prob(JB):          </th> <td>   0.360</td>\n",
       "</tr>\n",
       "<tr>\n",
       "  <th>Kurtosis:</th>      <td> 2.978</td> <th>  Cond. No.          </th> <td>    23.5</td>\n",
       "</tr>\n",
       "</table><br/><br/>Warnings:<br/>[1] Standard Errors assume that the covariance matrix of the errors is correctly specified."
      ],
      "text/plain": [
       "<class 'statsmodels.iolib.summary.Summary'>\n",
       "\"\"\"\n",
       "                            OLS Regression Results                            \n",
       "==============================================================================\n",
       "Dep. Variable:                      y   R-squared:                       0.730\n",
       "Model:                            OLS   Adj. R-squared:                  0.719\n",
       "Method:                 Least Squares   F-statistic:                     64.87\n",
       "Date:                Mon, 10 Dec 2018   Prob (F-statistic):           2.27e-14\n",
       "Time:                        18:37:06   Log-Likelihood:                -110.71\n",
       "No. Observations:                  51   AIC:                             227.4\n",
       "Df Residuals:                      48   BIC:                             233.2\n",
       "Df Model:                           2                                         \n",
       "Covariance Type:            nonrobust                                         \n",
       "==============================================================================\n",
       "                 coef    std err          t      P>|t|      [0.025      0.975]\n",
       "------------------------------------------------------------------------------\n",
       "const          5.6807      0.957      5.934      0.000       3.756       7.606\n",
       "speeding       0.1502      0.206      0.728      0.470      -0.265       0.565\n",
       "alcohol        1.9152      0.241      7.954      0.000       1.431       2.399\n",
       "==============================================================================\n",
       "Omnibus:                        2.495   Durbin-Watson:                   1.809\n",
       "Prob(Omnibus):                  0.287   Jarque-Bera (JB):                2.045\n",
       "Skew:                           0.490   Prob(JB):                        0.360\n",
       "Kurtosis:                       2.978   Cond. No.                         23.5\n",
       "==============================================================================\n",
       "\n",
       "Warnings:\n",
       "[1] Standard Errors assume that the covariance matrix of the errors is correctly specified.\n",
       "\"\"\""
      ]
     },
     "execution_count": 94,
     "metadata": {},
     "output_type": "execute_result"
    }
   ],
   "source": [
    "import statsmodels.api as sm\n",
    "\n",
    "speeding = sm.add_constant(crashes[[\"speeding\", \"alcohol\"]])\n",
    "ols = sm.OLS(crashes[\"total\"].values, speeding)\n",
    "result = ols.fit()\n",
    "result.summary()"
   ]
  },
  {
   "cell_type": "code",
   "execution_count": 95,
   "metadata": {},
   "outputs": [
    {
     "data": {
      "text/html": [
       "<table class=\"simpletable\">\n",
       "<caption>OLS Regression Results</caption>\n",
       "<tr>\n",
       "  <th>Dep. Variable:</th>            <td>y</td>        <th>  R-squared:         </th> <td>   0.374</td>\n",
       "</tr>\n",
       "<tr>\n",
       "  <th>Model:</th>                   <td>OLS</td>       <th>  Adj. R-squared:    </th> <td>   0.361</td>\n",
       "</tr>\n",
       "<tr>\n",
       "  <th>Method:</th>             <td>Least Squares</td>  <th>  F-statistic:       </th> <td>   29.27</td>\n",
       "</tr>\n",
       "<tr>\n",
       "  <th>Date:</th>             <td>Mon, 10 Dec 2018</td> <th>  Prob (F-statistic):</th> <td>1.87e-06</td>\n",
       "</tr>\n",
       "<tr>\n",
       "  <th>Time:</th>                 <td>18:37:29</td>     <th>  Log-Likelihood:    </th> <td> -132.15</td>\n",
       "</tr>\n",
       "<tr>\n",
       "  <th>No. Observations:</th>      <td>    51</td>      <th>  AIC:               </th> <td>   268.3</td>\n",
       "</tr>\n",
       "<tr>\n",
       "  <th>Df Residuals:</th>          <td>    49</td>      <th>  BIC:               </th> <td>   272.2</td>\n",
       "</tr>\n",
       "<tr>\n",
       "  <th>Df Model:</th>              <td>     1</td>      <th>                     </th>     <td> </td>   \n",
       "</tr>\n",
       "<tr>\n",
       "  <th>Covariance Type:</th>      <td>nonrobust</td>    <th>                     </th>     <td> </td>   \n",
       "</tr>\n",
       "</table>\n",
       "<table class=\"simpletable\">\n",
       "<tr>\n",
       "      <td></td>        <th>coef</th>     <th>std err</th>      <th>t</th>      <th>P>|t|</th>  <th>[0.025</th>    <th>0.975]</th>  \n",
       "</tr>\n",
       "<tr>\n",
       "  <th>const</th>    <td>    9.5459</td> <td>    1.243</td> <td>    7.680</td> <td> 0.000</td> <td>    7.048</td> <td>   12.044</td>\n",
       "</tr>\n",
       "<tr>\n",
       "  <th>speeding</th> <td>    1.2493</td> <td>    0.231</td> <td>    5.411</td> <td> 0.000</td> <td>    0.785</td> <td>    1.713</td>\n",
       "</tr>\n",
       "</table>\n",
       "<table class=\"simpletable\">\n",
       "<tr>\n",
       "  <th>Omnibus:</th>       <td> 2.847</td> <th>  Durbin-Watson:     </th> <td>   2.008</td>\n",
       "</tr>\n",
       "<tr>\n",
       "  <th>Prob(Omnibus):</th> <td> 0.241</td> <th>  Jarque-Bera (JB):  </th> <td>   2.681</td>\n",
       "</tr>\n",
       "<tr>\n",
       "  <th>Skew:</th>          <td> 0.542</td> <th>  Prob(JB):          </th> <td>   0.262</td>\n",
       "</tr>\n",
       "<tr>\n",
       "  <th>Kurtosis:</th>      <td> 2.709</td> <th>  Cond. No.          </th> <td>    14.9</td>\n",
       "</tr>\n",
       "</table><br/><br/>Warnings:<br/>[1] Standard Errors assume that the covariance matrix of the errors is correctly specified."
      ],
      "text/plain": [
       "<class 'statsmodels.iolib.summary.Summary'>\n",
       "\"\"\"\n",
       "                            OLS Regression Results                            \n",
       "==============================================================================\n",
       "Dep. Variable:                      y   R-squared:                       0.374\n",
       "Model:                            OLS   Adj. R-squared:                  0.361\n",
       "Method:                 Least Squares   F-statistic:                     29.27\n",
       "Date:                Mon, 10 Dec 2018   Prob (F-statistic):           1.87e-06\n",
       "Time:                        18:37:29   Log-Likelihood:                -132.15\n",
       "No. Observations:                  51   AIC:                             268.3\n",
       "Df Residuals:                      49   BIC:                             272.2\n",
       "Df Model:                           1                                         \n",
       "Covariance Type:            nonrobust                                         \n",
       "==============================================================================\n",
       "                 coef    std err          t      P>|t|      [0.025      0.975]\n",
       "------------------------------------------------------------------------------\n",
       "const          9.5459      1.243      7.680      0.000       7.048      12.044\n",
       "speeding       1.2493      0.231      5.411      0.000       0.785       1.713\n",
       "==============================================================================\n",
       "Omnibus:                        2.847   Durbin-Watson:                   2.008\n",
       "Prob(Omnibus):                  0.241   Jarque-Bera (JB):                2.681\n",
       "Skew:                           0.542   Prob(JB):                        0.262\n",
       "Kurtosis:                       2.709   Cond. No.                         14.9\n",
       "==============================================================================\n",
       "\n",
       "Warnings:\n",
       "[1] Standard Errors assume that the covariance matrix of the errors is correctly specified.\n",
       "\"\"\""
      ]
     },
     "execution_count": 95,
     "metadata": {},
     "output_type": "execute_result"
    }
   ],
   "source": [
    "import statsmodels.api as sm\n",
    "\n",
    "speeding = sm.add_constant(crashes[[\"speeding\"]])\n",
    "ols = sm.OLS(crashes[\"total\"].values, speeding)\n",
    "result = ols.fit()\n",
    "result.summary()"
   ]
  },
  {
   "cell_type": "markdown",
   "metadata": {},
   "source": [
    "In the above example we look at two competing models for explaining the total number of car crashes per billion miles.  The first model uses two parameters and the AIC is lower than in the second model which only uses car crashes where the driver was speeding per billion miles.  And so we can say with confidence that the first model is definitely a better representation than the second - it has a higher AIC than the second, even though it has more parameters.  \n",
    "\n",
    "The only real substantiative difference between AIC and BIC is the AIC is less likely to find the true model than BIC.  In fact it was shown that asymptotically, BIC will eventually find the true model, while AIC doesn't always.  It was however shown that AIC often does find good models, even if they aren't the theoretical \"best\".  Other than that, they are basically the same.  They just penalize extra parameters differently, in that AIC penalizes them more heavily than BIC does.\n",
    "\n",
    "Source: https://en.wikipedia.org/wiki/Akaike_information_criterion#Comparison_with_BIC\n",
    "\n",
    "## R-Squared\n",
    "\n",
    "The next goodness of fit measure we will look at is $R^{2}$."
   ]
  },
  {
   "cell_type": "code",
   "execution_count": 96,
   "metadata": {},
   "outputs": [],
   "source": [
    "import numpy as np\n",
    "\n",
    "def r_squared(true_y, pred_y):\n",
    "    y_bar = np.mean(true_y)\n",
    "    total_sum_of_squares = sum((true_y - y_bar)**2)\n",
    "    residual_sum_of_squares = sum((true_y - pred_y)**2)\n",
    "    return 1 - (residual_sum_of_squares/total_sum_of_squares)"
   ]
  },
  {
   "cell_type": "markdown",
   "metadata": {},
   "source": [
    "The $R^{2}$ measure returns a float between 0 and 1 which gives a notion of how well the model fits the observed (or sometimes called the dependent) variable.  The closer to 1 the better the model fits the data.\n",
    "\n",
    "Essentially, $R^{2}$ is the ratio of variance explained by the model compared with total variance in the observed variable.  It's important to note - $R^{2}$ is only true for linear models.  If you try to use it for non-linear models you can end up with values less than 0 or greater than 1, which make no sense.  "
   ]
  },
  {
   "cell_type": "code",
   "execution_count": 100,
   "metadata": {},
   "outputs": [
    {
     "data": {
      "text/html": [
       "<table class=\"simpletable\">\n",
       "<caption>OLS Regression Results</caption>\n",
       "<tr>\n",
       "  <th>Dep. Variable:</th>            <td>y</td>        <th>  R-squared:         </th> <td>   0.730</td>\n",
       "</tr>\n",
       "<tr>\n",
       "  <th>Model:</th>                   <td>OLS</td>       <th>  Adj. R-squared:    </th> <td>   0.719</td>\n",
       "</tr>\n",
       "<tr>\n",
       "  <th>Method:</th>             <td>Least Squares</td>  <th>  F-statistic:       </th> <td>   64.87</td>\n",
       "</tr>\n",
       "<tr>\n",
       "  <th>Date:</th>             <td>Mon, 10 Dec 2018</td> <th>  Prob (F-statistic):</th> <td>2.27e-14</td>\n",
       "</tr>\n",
       "<tr>\n",
       "  <th>Time:</th>                 <td>19:00:43</td>     <th>  Log-Likelihood:    </th> <td> -110.71</td>\n",
       "</tr>\n",
       "<tr>\n",
       "  <th>No. Observations:</th>      <td>    51</td>      <th>  AIC:               </th> <td>   227.4</td>\n",
       "</tr>\n",
       "<tr>\n",
       "  <th>Df Residuals:</th>          <td>    48</td>      <th>  BIC:               </th> <td>   233.2</td>\n",
       "</tr>\n",
       "<tr>\n",
       "  <th>Df Model:</th>              <td>     2</td>      <th>                     </th>     <td> </td>   \n",
       "</tr>\n",
       "<tr>\n",
       "  <th>Covariance Type:</th>      <td>nonrobust</td>    <th>                     </th>     <td> </td>   \n",
       "</tr>\n",
       "</table>\n",
       "<table class=\"simpletable\">\n",
       "<tr>\n",
       "      <td></td>        <th>coef</th>     <th>std err</th>      <th>t</th>      <th>P>|t|</th>  <th>[0.025</th>    <th>0.975]</th>  \n",
       "</tr>\n",
       "<tr>\n",
       "  <th>const</th>    <td>    5.6807</td> <td>    0.957</td> <td>    5.934</td> <td> 0.000</td> <td>    3.756</td> <td>    7.606</td>\n",
       "</tr>\n",
       "<tr>\n",
       "  <th>speeding</th> <td>    0.1502</td> <td>    0.206</td> <td>    0.728</td> <td> 0.470</td> <td>   -0.265</td> <td>    0.565</td>\n",
       "</tr>\n",
       "<tr>\n",
       "  <th>alcohol</th>  <td>    1.9152</td> <td>    0.241</td> <td>    7.954</td> <td> 0.000</td> <td>    1.431</td> <td>    2.399</td>\n",
       "</tr>\n",
       "</table>\n",
       "<table class=\"simpletable\">\n",
       "<tr>\n",
       "  <th>Omnibus:</th>       <td> 2.495</td> <th>  Durbin-Watson:     </th> <td>   1.809</td>\n",
       "</tr>\n",
       "<tr>\n",
       "  <th>Prob(Omnibus):</th> <td> 0.287</td> <th>  Jarque-Bera (JB):  </th> <td>   2.045</td>\n",
       "</tr>\n",
       "<tr>\n",
       "  <th>Skew:</th>          <td> 0.490</td> <th>  Prob(JB):          </th> <td>   0.360</td>\n",
       "</tr>\n",
       "<tr>\n",
       "  <th>Kurtosis:</th>      <td> 2.978</td> <th>  Cond. No.          </th> <td>    23.5</td>\n",
       "</tr>\n",
       "</table><br/><br/>Warnings:<br/>[1] Standard Errors assume that the covariance matrix of the errors is correctly specified."
      ],
      "text/plain": [
       "<class 'statsmodels.iolib.summary.Summary'>\n",
       "\"\"\"\n",
       "                            OLS Regression Results                            \n",
       "==============================================================================\n",
       "Dep. Variable:                      y   R-squared:                       0.730\n",
       "Model:                            OLS   Adj. R-squared:                  0.719\n",
       "Method:                 Least Squares   F-statistic:                     64.87\n",
       "Date:                Mon, 10 Dec 2018   Prob (F-statistic):           2.27e-14\n",
       "Time:                        19:00:43   Log-Likelihood:                -110.71\n",
       "No. Observations:                  51   AIC:                             227.4\n",
       "Df Residuals:                      48   BIC:                             233.2\n",
       "Df Model:                           2                                         \n",
       "Covariance Type:            nonrobust                                         \n",
       "==============================================================================\n",
       "                 coef    std err          t      P>|t|      [0.025      0.975]\n",
       "------------------------------------------------------------------------------\n",
       "const          5.6807      0.957      5.934      0.000       3.756       7.606\n",
       "speeding       0.1502      0.206      0.728      0.470      -0.265       0.565\n",
       "alcohol        1.9152      0.241      7.954      0.000       1.431       2.399\n",
       "==============================================================================\n",
       "Omnibus:                        2.495   Durbin-Watson:                   1.809\n",
       "Prob(Omnibus):                  0.287   Jarque-Bera (JB):                2.045\n",
       "Skew:                           0.490   Prob(JB):                        0.360\n",
       "Kurtosis:                       2.978   Cond. No.                         23.5\n",
       "==============================================================================\n",
       "\n",
       "Warnings:\n",
       "[1] Standard Errors assume that the covariance matrix of the errors is correctly specified.\n",
       "\"\"\""
      ]
     },
     "execution_count": 100,
     "metadata": {},
     "output_type": "execute_result"
    }
   ],
   "source": [
    "import statsmodels.api as sm\n",
    "\n",
    "speeding = sm.add_constant(crashes[[\"speeding\", \"alcohol\"]])\n",
    "ols = sm.OLS(crashes[\"total\"].values, speeding)\n",
    "result = ols.fit()\n",
    "result.summary()"
   ]
  },
  {
   "cell_type": "markdown",
   "metadata": {},
   "source": [
    "Here we see the $R^{2}$ is 0.730 which is a pretty good measure of fit!  So we can say between this and the AIC being quiet low (lower than the case when we had one explaintory variable) we are doing pretty well.\n",
    "\n",
    "## Mean Squared Error and Mean Absolute Error\n",
    "\n",
    "The problems with $R^{2}$ are well documented but there are other measures which don't suffer from the same issues.  We'll look at two such measures here:\n",
    "\n",
    "Mean Squared Error is simply the following:"
   ]
  },
  {
   "cell_type": "code",
   "execution_count": 102,
   "metadata": {},
   "outputs": [
    {
     "data": {
      "text/plain": [
       "4.498774812838514"
      ]
     },
     "execution_count": 102,
     "metadata": {},
     "output_type": "execute_result"
    }
   ],
   "source": [
    "def mse(y_true, y_pred):\n",
    "    return np.mean((y_true - y_pred)**2)\n",
    "\n",
    "speeding = sm.add_constant(crashes[[\"speeding\", \"alcohol\"]])\n",
    "ols = sm.OLS(crashes[\"total\"].values, speeding)\n",
    "result = ols.fit()\n",
    "mse(crashes[\"total\"].values, result.fittedvalues)"
   ]
  },
  {
   "cell_type": "markdown",
   "metadata": {},
   "source": [
    "Basically all we do is look at the average squared error.  Usually to put things back in the approximate units we take the root mean squared error:"
   ]
  },
  {
   "cell_type": "code",
   "execution_count": 104,
   "metadata": {},
   "outputs": [
    {
     "data": {
      "text/plain": [
       "2.1210315445175523"
      ]
     },
     "execution_count": 104,
     "metadata": {},
     "output_type": "execute_result"
    }
   ],
   "source": [
    "def rmse(y_true, y_pred):\n",
    "    return np.sqrt(np.mean((y_true - y_pred)**2))\n",
    "\n",
    "speeding = sm.add_constant(crashes[[\"speeding\", \"alcohol\"]])\n",
    "ols = sm.OLS(crashes[\"total\"].values, speeding)\n",
    "result = ols.fit()\n",
    "rmse(crashes[\"total\"].values, result.fittedvalues)"
   ]
  },
  {
   "cell_type": "markdown",
   "metadata": {},
   "source": [
    "But what does the number 2.121 mean?  One way you can make sense of this is by normalizing the result based on the range of values, but what's the right value to normalize by?  We could take the absolute difference between the largest and smallest predicted values.  But even such a transformation still doesn't answer the question of what Mean Squared Error means.  \n",
    "\n",
    "The truth is, it's context specific.  So it depends on the units of the dependent variable.  In this case, we are saying we are off by about 2.121 car crashes per billion miles.  Is that a lot?  It depends on the context we are working in and the requirements of stringency we have placed infront of us.\n",
    "\n",
    "Unfortunately there is no objective general rule about Mean Squared Error, all of it is context specific.  But the nice thing about Mean Squared Error is it is a true measure.  So for optimization problems its a great tool.  The only main issue I found is, it's far too sensitive to bad cases.  This is in part because it is squared and in part because it is a mean, both of which will overstate any individual cases in which the errors are extreme, even if the model does very well fitting most cases.\n",
    "\n",
    "If outliers are important to your model, then we can say that mean squared error is a good measure to use.  If outliers are extremely rare, or unimportant to attempt to fit, you are better off simply either choosing a different metric or throwing out those cases and retraining your model.\n",
    "\n",
    "However, it's important that the outliers need not be extreme only with respect to model fit, but must be extreme compared to the rest of the dependent and/or independent values in the dataset.\n",
    "\n",
    "\n",
    "## Mean Absolute Error\n",
    "\n",
    "The Mean Absolute Error functions much the same way as the Mean Squared Error.  The only difference is a different distance function is used to calculate the final error measure:"
   ]
  },
  {
   "cell_type": "code",
   "execution_count": 106,
   "metadata": {},
   "outputs": [
    {
     "data": {
      "text/plain": [
       "1.6711292264105282"
      ]
     },
     "execution_count": 106,
     "metadata": {},
     "output_type": "execute_result"
    }
   ],
   "source": [
    "def mae(y_true, y_pred):\n",
    "    return np.mean(abs(y_true - y_pred))\n",
    "\n",
    "speeding = sm.add_constant(crashes[[\"speeding\", \"alcohol\"]])\n",
    "ols = sm.OLS(crashes[\"total\"].values, speeding)\n",
    "result = ols.fit()\n",
    "mae(crashes[\"total\"].values, result.fittedvalues)"
   ]
  },
  {
   "cell_type": "markdown",
   "metadata": {},
   "source": [
    "Note that the Mean Absolute Error is smaller than the Mean Squared Error or even the Root Mean Squared Error, this is because the absolute value is a different distance function.\n",
    "\n",
    "## Parameter Interpretation\n",
    "\n",
    "* linear - linear model\n",
    "* log - linear model\n",
    "* inear - log model\n",
    "* log - log model\n",
    "* linear - exponential model"
   ]
  },
  {
   "cell_type": "markdown",
   "metadata": {},
   "source": [
    "## References:\n",
    "\n",
    "* http://seaborn.pydata.org/examples/horizontal_barplot.html?highlight=car%20crashes\n",
    "* https://towardsdatascience.com/probability-concepts-explained-maximum-likelihood-estimation-c7b4342fdbb1\n",
    "* https://www.forbes.com/sites/johnsonpierr/2017/06/15/with-the-public-clouds-of-amazon-microsoft-and-google-big-data-is-the-proverbial-big-deal/#6e5918692ac3\n",
    "* https://stats.stackexchange.com/questions/59250/how-to-interpret-the-output-of-the-summary-method-for-an-lm-object-in-r\n",
    "* https://en.wikipedia.org/wiki/Kullback%E2%80%93Leibler_divergence\n",
    "* https://www.programcreek.com/python/example/62037/scipy.stats.entropy\n",
    "* https://en.wikipedia.org/wiki/Akaike_information_criterion#Comparison_with_BIC"
   ]
  },
  {
   "cell_type": "code",
   "execution_count": null,
   "metadata": {},
   "outputs": [],
   "source": []
  }
 ],
 "metadata": {
  "kernelspec": {
   "display_name": "Python 3",
   "language": "python",
   "name": "python3"
  },
  "language_info": {
   "codemirror_mode": {
    "name": "ipython",
    "version": 3
   },
   "file_extension": ".py",
   "mimetype": "text/x-python",
   "name": "python",
   "nbconvert_exporter": "python",
   "pygments_lexer": "ipython3",
   "version": "3.7.1"
  }
 },
 "nbformat": 4,
 "nbformat_minor": 2
}
